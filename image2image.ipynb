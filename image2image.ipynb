{
 "cells": [
  {
   "cell_type": "code",
   "execution_count": null,
   "metadata": {},
   "outputs": [],
   "source": [
    "from diffusers import AutoPipelineForImage2Image\n",
    "from diffusers.utils import load_image\n",
    "from IPython.display import clear_output\n",
    "import torch\n",
    "\n",
    "# Let's figure out what kind of hardware torch has been built for!\n",
    "if torch.cuda.is_available():\n",
    "  pipe = AutoPipelineForImage2Image.from_pretrained(\"stabilityai/sd-turbo\", torch_dtype=torch.float16, variant=\"fp16\")\n",
    "  device=\"cuda\"\n",
    "  pipe.to(device)\n",
    "elif torch.backends.mps.is_available():\n",
    "  pipe = AutoPipelineForImage2Image.from_pretrained(\"stabilityai/sd-turbo\")\n",
    "  device=\"mps\"\n",
    "  pipe.to(device)\n",
    "else:\n",
    "  pipe = AutoPipelineForImage2Image.from_pretrained(\"stabilityai/sd-turbo\")\n",
    "  device=\"cpu\"\n",
    "\n",
    "clear_output()\n",
    "print(\"Pipeline configured for \" + device + \" 🔥\", flush=True)\n"
   ]
  },
  {
   "cell_type": "code",
   "execution_count": null,
   "metadata": {},
   "outputs": [],
   "source": [
    "init_image = load_image(\"https://images.itnewsinfo.com/dis/articles/originale/000000012891.jpg\").resize((512, 512))\n",
    "\n",
    "init_image"
   ]
  },
  {
   "cell_type": "code",
   "execution_count": null,
   "metadata": {},
   "outputs": [],
   "source": [
    "prompt = \"a minotaur\"\n",
    "\n",
    "image = pipe(prompt, image=init_image, num_inference_steps=5, strength=0.8, guidance_scale=0.9).images[0]\n",
    "\n",
    "image"
   ]
  }
 ],
 "metadata": {
  "kernelspec": {
   "display_name": "flox-venv",
   "language": "python",
   "name": "python3"
  },
  "language_info": {
   "codemirror_mode": {
    "name": "ipython",
    "version": 3
   },
   "file_extension": ".py",
   "mimetype": "text/x-python",
   "name": "python",
   "nbconvert_exporter": "python",
   "pygments_lexer": "ipython3",
   "version": "3.10.13"
  }
 },
 "nbformat": 4,
 "nbformat_minor": 2
}
