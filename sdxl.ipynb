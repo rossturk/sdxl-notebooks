{
 "cells": [
  {
   "cell_type": "code",
   "execution_count": null,
   "metadata": {},
   "outputs": [],
   "source": [
    "import torch\n",
    "from diffusers import AutoPipelineForText2Image\n",
    "from IPython.display import clear_output\n",
    "\n",
    "# Let's figure out what kind of hardware torch has been built for!\n",
    "if torch.cuda.is_available():\n",
    "  pipe = AutoPipelineForText2Image.from_pretrained(\"stabilityai/sd-turbo\", torch_dtype=torch.float16, variant=\"fp16\")\n",
    "  device=\"cuda\"\n",
    "  pipe.to(device)\n",
    "elif torch.backends.mps.is_available():\n",
    "  pipe = AutoPipelineForText2Image.from_pretrained(\"stabilityai/sd-turbo\")\n",
    "  device=\"mps\"\n",
    "  pipe.to(device)\n",
    "else:\n",
    "  pipe = AutoPipelineForText2Image.from_pretrained(\"stabilityai/sd-turbo\")\n",
    "  device=\"cpu\"\n",
    "\n",
    "clear_output()\n",
    "print(\"Pipeline configured for \" + device + \" 🔥\", flush=True)\n"
   ]
  },
  {
   "cell_type": "code",
   "execution_count": null,
   "metadata": {},
   "outputs": [],
   "source": [
    "# configure the prompt\n",
    "prompt = \"a flox in a henhouse\"\n",
    "steps = 1\n",
    "\n",
    "# run the pipeline\n",
    "image = pipe(prompt=prompt, num_inference_steps=steps, guidance_scale=0.0).images[0]\n",
    "\n",
    "# display the image\n",
    "image\n"
   ]
  }
 ],
 "metadata": {
  "kernelspec": {
   "display_name": "flox-venv",
   "language": "python",
   "name": "python3"
  },
  "language_info": {
   "codemirror_mode": {
    "name": "ipython",
    "version": 3
   },
   "file_extension": ".py",
   "mimetype": "text/x-python",
   "name": "python",
   "nbconvert_exporter": "python",
   "pygments_lexer": "ipython3",
   "version": "3.10.13"
  }
 },
 "nbformat": 4,
 "nbformat_minor": 2
}
